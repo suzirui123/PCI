{
 "cells": [
  {
   "cell_type": "code",
   "execution_count": null,
   "metadata": {
    "collapsed": true
   },
   "outputs": [],
   "source": [
    "from pydelicious import get_popular,get_userposts,get_urlposts\n",
    "def initializeUserDict(tag,count=5):\n",
    "    user_dict={}\n",
    "    for p1 in get_popular(tag=tag)[0:count]:\n",
    "        for p2 in get_urlposts(p1['href']):\n",
    "            user=p2['user']\n",
    "            user_dict[user]={}\n",
    "    return user_dict\n",
    "\n",
    "def fillItems(user_dict):\n",
    "    all_items={}\n",
    "    for user in user_dict:\n",
    "        for i in range(3):\n",
    "            try:\n",
    "                posts=get_userposts(user)\n",
    "                break\n",
    "            except:\n",
    "                print \"Failed user\"+user+\",retrying\"\n",
    "                time.sleep(4)\n",
    "        for post in posts:\n",
    "            url=post['href']\n",
    "            user_dict[user][url]=1.0\n",
    "            all_items[url]=1\n",
    "    for ratings in user_dict.values():\n",
    "        for item in all_items:\n",
    "            if item not in ratings:\n",
    "                ratings[item]=0.0\n",
    "            \n"
   ]
  }
 ],
 "metadata": {
  "kernelspec": {
   "display_name": "Python 2",
   "language": "python",
   "name": "python2"
  },
  "language_info": {
   "codemirror_mode": {
    "name": "ipython",
    "version": 2
   },
   "file_extension": ".py",
   "mimetype": "text/x-python",
   "name": "python",
   "nbconvert_exporter": "python",
   "pygments_lexer": "ipython2",
   "version": "2.7.6"
  }
 },
 "nbformat": 4,
 "nbformat_minor": 1
}
