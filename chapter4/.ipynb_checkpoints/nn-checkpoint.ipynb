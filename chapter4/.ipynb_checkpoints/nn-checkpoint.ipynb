{
 "cells": [
  {
   "cell_type": "code",
   "execution_count": 5,
   "metadata": {
    "collapsed": true
   },
   "outputs": [],
   "source": [
    "from math import tanh\n",
    "from pysqlite2 import dbapi2 as sqlite"
   ]
  },
  {
   "cell_type": "code",
   "execution_count": 6,
   "metadata": {
    "collapsed": false
   },
   "outputs": [],
   "source": [
    "class searchnet:\n",
    "    def __init__(self, dbname):\n",
    "        self.con = sqlite.connect(dbname)\n",
    "    \n",
    "    def __del__(self):\n",
    "        self.con.close()\n",
    "    \n",
    "    def maketables(self):\n",
    "        self.con.execute('create table hiddennode(create_key)')\n",
    "        self.con.execute('create table wordhidden(fromid, toid, strength)')\n",
    "        self.con.execute('create table hiddenurl(fromid, toid, strength)')\n",
    "        self.con.commit()\n",
    "    \n",
    "    def getstrength(self, fromid, toid, layer):\n",
    "        if layer ==0: table = 'wordhidden'\n",
    "        else: table = 'hiddenurl'\n",
    "        res = self.con.execute('select strength from %s where fromid = %d and toid = %d' % (table, fromid, toid)).fetchone()\n",
    "        if res ==None:\n",
    "            if layer == 0: return -0.2\n",
    "            if layer ==1: return 0\n",
    "        return res[0]\n",
    "    \n",
    "    def setstrength(self, fromid, toid, layer, strength):\n",
    "        if layer ==0: table ='wordhidden'\n",
    "        else: table = 'hiddenurl'\n",
    "        res = self.con.execute('select rowid from %s where fromid =%d and toid =%d' % (table, fromid, toid)).fetchone()\n",
    "        if res == None:\n",
    "            self.con.execute('insert into %s (fromid, toid, strength) values (%d, %d, %f)' % (table, fromid, toid, strength))\n",
    "        else:\n",
    "            rowid = res[0]\n",
    "            self.con.execute('update %s set strength = %f where rowid = %d % (table, strength, rowid)')\n",
    "    \n",
    "    def generatehiddennode(self, wordids, urls):\n",
    "        if len(wordids) >3 : return None\n",
    "        createkey ='_'.join(sorted([str(wi) for wi in wordids]))\n",
    "        res = self.con.execute(\"select rowid from hiddennode where create_key ='%s'\" % createkey).fetchone()\n",
    "        if res == None:\n",
    "            cur = self.con.execute(\"insert into hiddennode (create_key) values ('%s')\" % createkey)\n",
    "            hiddenid = cur.lastrowid\n",
    "            for wordid in wordids:\n",
    "                self.setstrength(wordid, hiddenid, 0, 1.0/len(wordids))\n",
    "            for urlid in urls:\n",
    "                self.setstrength(hiddenid, urlid, 1, 0.1)\n",
    "            self.con.commit()\n",
    "    \n",
    "#feeding forward\n",
    "    def getallhiddenids(self, wordids, urlids):\n",
    "        l1 ={ }\n",
    "        for wordid in wordids:\n",
    "            cur = self.con.execute('select toid from wordhidden where fromid = %d' % (wordid))\n",
    "            for row in cur: l1[row[0]] =1\n",
    "        for urlid in urlids:\n",
    "            cur = self.con.execute('select fromid from hiddenurl where toid = %d' % (urlid))\n",
    "            for row in cur: l1[row[0]] = 1\n",
    "        return l1.keys()\n",
    "    \n",
    "    def setupnetwork(self, wordids, urlids):\n",
    "        self.wordids = wordids\n",
    "        self.hiddenids = self.getallhiddenids(wordids, urlids)\n",
    "        self.urlids = urlids\n",
    "        self.ai = [1.0] * len(self.wordids)\n",
    "        self.ah = [1.0] * len(self.hiddenids)\n",
    "        self.ao = [1.0] * len(self.urlids)\n",
    "        self.wi = [[self.getstrength(wordid, hiddenid, 0) for hiddenid in self.hiddenids] for wordid in self.wordids]\n",
    "        self.wo = [[self.getstrength(hiddenid, urlid, 1) for urlid in self.urlids] for hiddenid in self.hiddenids]"
   ]
  },
  {
   "cell_type": "code",
   "execution_count": null,
   "metadata": {
    "collapsed": true
   },
   "outputs": [],
   "source": []
  }
 ],
 "metadata": {
  "kernelspec": {
   "display_name": "Python 2",
   "language": "python",
   "name": "python2"
  },
  "language_info": {
   "codemirror_mode": {
    "name": "ipython",
    "version": 2
   },
   "file_extension": ".py",
   "mimetype": "text/x-python",
   "name": "python",
   "nbconvert_exporter": "python",
   "pygments_lexer": "ipython2",
   "version": "2.7.6"
  }
 },
 "nbformat": 4,
 "nbformat_minor": 1
}
