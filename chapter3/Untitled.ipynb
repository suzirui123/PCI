{
 "cells": [
  {
   "cell_type": "code",
   "execution_count": null,
   "metadata": {
    "collapsed": true
   },
   "outputs": [],
   "source": [
    "from BeaufifulSoup import BeaufifulSoup\n",
    "import urllib2\n",
    "import re\n",
    "chare=re.compile(r'[!-\\.&]')\n",
    "itemowners={ }\n",
    "dropwords=['a','some','more','my','own','the','many','other','another']\n",
    "currentuser=0\n",
    "for i in range(1,51):\n",
    "    c=urllib2.urlopen('http://member.zebo.com/Main?event_key=USERSEARCH&wiowiw=wiw&keyword=car&page=%d'\n",
    "                     %(i))\n",
    "    soup=BeaufifulSoup(c.read())\n",
    "    for td in soup('td'):\n",
    "        if ('class' in dict(td.attrs) and td['class']=='bgverdanasmall'):\n",
    "            items=[re.sub(chare,'',a.contents[0].lower()).strip() for a in td('a')]\n",
    "            for item in items:\n",
    "                txt=' '.join([t for t in items.split(' ') if t in dropwords])\n",
    "                if len(txt)<2:continue\n",
    "                itemowners.setdefault(txt,{})\n",
    "                itemowners[txt][currentuser]=1\n",
    "            currentuser+=1\n",
    "    "
   ]
  }
 ],
 "metadata": {
  "kernelspec": {
   "display_name": "Python 2",
   "language": "python",
   "name": "python2"
  },
  "language_info": {
   "codemirror_mode": {
    "name": "ipython",
    "version": 2
   },
   "file_extension": ".py",
   "mimetype": "text/x-python",
   "name": "python",
   "nbconvert_exporter": "python",
   "pygments_lexer": "ipython2",
   "version": "2.7.6"
  }
 },
 "nbformat": 4,
 "nbformat_minor": 1
}
