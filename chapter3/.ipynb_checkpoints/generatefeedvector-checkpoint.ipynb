{
 "cells": [
  {
   "cell_type": "code",
   "execution_count": 12,
   "metadata": {
    "collapsed": false
   },
   "outputs": [
    {
     "ename": "TypeError",
     "evalue": "'NoneType' object is not iterable",
     "output_type": "error",
     "traceback": [
      "\u001b[0;31m---------------------------------------------------------------------------\u001b[0m",
      "\u001b[0;31mTypeError\u001b[0m                                 Traceback (most recent call last)",
      "\u001b[0;32m<ipython-input-12-e95958225f39>\u001b[0m in \u001b[0;36m<module>\u001b[0;34m()\u001b[0m\n\u001b[1;32m     23\u001b[0m \u001b[0mfeedlist\u001b[0m\u001b[0;34m=\u001b[0m\u001b[0;34m[\u001b[0m\u001b[0mline\u001b[0m \u001b[0;32mfor\u001b[0m \u001b[0mline\u001b[0m \u001b[0;32min\u001b[0m \u001b[0mfile\u001b[0m\u001b[0;34m(\u001b[0m\u001b[0;34m'feedlist.txt'\u001b[0m\u001b[0;34m)\u001b[0m\u001b[0;34m]\u001b[0m\u001b[0;34m\u001b[0m\u001b[0m\n\u001b[1;32m     24\u001b[0m \u001b[0;32mfor\u001b[0m \u001b[0mfeedurl\u001b[0m \u001b[0;32min\u001b[0m \u001b[0mfeedlist\u001b[0m\u001b[0;34m:\u001b[0m\u001b[0;34m\u001b[0m\u001b[0m\n\u001b[0;32m---> 25\u001b[0;31m     \u001b[0mtitle\u001b[0m\u001b[0;34m,\u001b[0m\u001b[0mwc\u001b[0m\u001b[0;34m=\u001b[0m\u001b[0mgetwordcounts\u001b[0m\u001b[0;34m(\u001b[0m\u001b[0mfeedurl\u001b[0m\u001b[0;34m)\u001b[0m\u001b[0;34m\u001b[0m\u001b[0m\n\u001b[0m\u001b[1;32m     26\u001b[0m     \u001b[0mwordcounts\u001b[0m\u001b[0;34m[\u001b[0m\u001b[0mtitle\u001b[0m\u001b[0;34m]\u001b[0m\u001b[0;34m=\u001b[0m\u001b[0mwc\u001b[0m\u001b[0;34m\u001b[0m\u001b[0m\n\u001b[1;32m     27\u001b[0m     \u001b[0;32mfor\u001b[0m \u001b[0mword\u001b[0m\u001b[0;34m,\u001b[0m\u001b[0mcount\u001b[0m \u001b[0;32min\u001b[0m \u001b[0mwc\u001b[0m\u001b[0;34m.\u001b[0m\u001b[0mitems\u001b[0m\u001b[0;34m(\u001b[0m\u001b[0;34m)\u001b[0m\u001b[0;34m:\u001b[0m\u001b[0;34m\u001b[0m\u001b[0m\n",
      "\u001b[0;31mTypeError\u001b[0m: 'NoneType' object is not iterable"
     ]
    }
   ],
   "source": [
    "import feedparser\n",
    "import re\n",
    "\n",
    "def getwordcounts(url):\n",
    "    d=feedparser.parse(url)\n",
    "    wc={}\n",
    "    for e in d.entries:\n",
    "        if 'summary' in e:summary=e.summary\n",
    "        else:summary=e.description\n",
    "        words=getwords(e.title+''+summary)\n",
    "        for word in words:\n",
    "            wc.setdefault(word,0)\n",
    "            wc[word]+=1\n",
    "        return d.feed.title,wc\n",
    "\n",
    "def getwords(html):\n",
    "    txt=re.compile(r'<[^>]+>').sub(' ',html)\n",
    "    words=re.compile(r'[^A-Z^a-z]+').split(txt)\n",
    "    return [word.lower() for word in words if word!='']\n",
    "\n",
    "apcount={}\n",
    "wordcounts={}\n",
    "feedlist=[line for line in file('feedlist.txt')]\n",
    "for feedurl in feedlist:\n",
    "    title,wc=getwordcounts(feedurl)\n",
    "    wordcounts[title]=wc\n",
    "    for word,count in wc.items():\n",
    "        apcount.setdefault(word,0)\n",
    "        if count>1:\n",
    "            apcount[word]+=1\n",
    "        \n",
    "wordlist=[]\n",
    "for w,bc in apcount.items():\n",
    "    frac=float(bc)/len(feedlist)\n",
    "    if frac>0.1 and frac<0.5:wordlist.append(w)\n",
    "\n",
    "out=file('blogdata.txt','w')\n",
    "out.write('Blog')\n",
    "for word in wordlist:out.write('\\t%s' % word)\n",
    "out.write('\\n')\n",
    "for blog,wc in wordcounts.items():\n",
    "    out.write(blog)\n",
    "    for word in wordlist:\n",
    "        if word in wc: out.write('\\t%d' % wc[word])\n",
    "        else: out.write('\\t0')\n",
    "    out.write('\\n')"
   ]
  },
  {
   "cell_type": "code",
   "execution_count": 8,
   "metadata": {
    "collapsed": true
   },
   "outputs": [],
   "source": [
    "feedlist=[line for line in file('feedlist.txt')]"
   ]
  }
 ],
 "metadata": {
  "kernelspec": {
   "display_name": "Python 2",
   "language": "python",
   "name": "python2"
  },
  "language_info": {
   "codemirror_mode": {
    "name": "ipython",
    "version": 2
   },
   "file_extension": ".py",
   "mimetype": "text/x-python",
   "name": "python",
   "nbconvert_exporter": "python",
   "pygments_lexer": "ipython2",
   "version": "2.7.6"
  }
 },
 "nbformat": 4,
 "nbformat_minor": 1
}
